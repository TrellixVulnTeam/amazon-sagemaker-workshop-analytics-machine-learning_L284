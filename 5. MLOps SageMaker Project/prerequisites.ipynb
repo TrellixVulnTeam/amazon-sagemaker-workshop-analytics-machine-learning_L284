{
 "cells": [
  {
   "cell_type": "code",
   "execution_count": null,
   "metadata": {},
   "outputs": [],
   "source": [
    "import argparse\n",
    "import json\n",
    "import logging\n",
    "import os\n"
   ]
  },
  {
   "cell_type": "code",
   "execution_count": null,
   "metadata": {},
   "outputs": [],
   "source": [
    "\n",
    "!unzip model-building-workflow-jenkins-v1.0.zip -d model-building-workflow-jenkins-v1\n",
    "!unzip model-deployment-workflow-jenkins-v1.0.zip -d model-deployment-workflow-jenkins-v1\n",
    "!unzip model-preprocess-workflow-jenkins-v1.0.zip -d model-preprocess-workflow-jenkins-v1"
   ]
  },
  {
   "cell_type": "code",
   "execution_count": null,
   "metadata": {},
   "outputs": [],
   "source": [
    "!aws s3 cp GitRepositorySeedCodeCheckinCodeBuildProject-v1.0.zip s3://sagemaker-servicecatalog-seedcode-mmelli/bootstrap/GitRepositorySeedCodeCheckinCodeBuildProject-v1.0.zip"
   ]
  },
  {
   "cell_type": "code",
   "execution_count": null,
   "metadata": {},
   "outputs": [],
   "source": [
    "\n",
    "!aws s3 cp model-preprocess-workflow-jenkins-v1.0.zip s3://sagemaker-servicecatalog-seedcode-mmelli/toolchain/model-preprocess-workflow-jenkins-v1.0.zip\n",
    "!aws s3 cp model-building-workflow-jenkins-v1.0.zip s3://sagemaker-servicecatalog-seedcode-mmelli/toolchain/model-building-workflow-jenkins-v1.0.zip\n",
    "!aws s3 cp model-deployment-workflow-jenkins-v1.0.zip s3://sagemaker-servicecatalog-seedcode-mmelli/toolchain/model-deployment-workflow-jenkins-v1.0.zip    "
   ]
  },
  {
   "cell_type": "code",
   "execution_count": null,
   "metadata": {},
   "outputs": [],
   "source": [
    "!aws s3 cp jenkins-git-template-custom-v1.yml s3://sagemaker-servicecatalog-seedcode-mmelli/cfn-templates/jenkins-git-template-custom-v1.yml"
   ]
  },
  {
   "cell_type": "code",
   "execution_count": null,
   "metadata": {},
   "outputs": [],
   "source": [
    "!aws s3 cp create-model-trigger.yml s3://sagemaker-servicecatalog-seedcode-mmelli/cfn-templates/create-model-trigger.yml"
   ]
  }
 ],
 "metadata": {
  "instance_type": "ml.t3.medium",
  "kernelspec": {
   "display_name": "Python 3 (Data Science)",
   "language": "python",
   "name": "python3__SAGEMAKER_INTERNAL__arn:aws:sagemaker:us-east-1:081325390199:image/datascience-1.0"
  },
  "language_info": {
   "codemirror_mode": {
    "name": "ipython",
    "version": 3
   },
   "file_extension": ".py",
   "mimetype": "text/x-python",
   "name": "python",
   "nbconvert_exporter": "python",
   "pygments_lexer": "ipython3",
   "version": "3.7.10"
  }
 },
 "nbformat": 4,
 "nbformat_minor": 4
}
